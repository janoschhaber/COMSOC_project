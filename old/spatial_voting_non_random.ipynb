{
 "cells": [
  {
   "cell_type": "code",
   "execution_count": 1,
   "metadata": {
    "collapsed": false
   },
   "outputs": [],
   "source": [
    "### IMPORTANT: RESTART KERNEL AFTER UPDATING THE MODEL TO INVOKE CHANGES! ### \n",
    "from model import *\n",
    "from plotting import *\n",
    "from analysis import *\n",
    "import pickle\n",
    "\n",
    "print_model = True\n",
    "print_analysis = True"
   ]
  },
  {
   "cell_type": "code",
   "execution_count": 2,
   "metadata": {
    "collapsed": false
   },
   "outputs": [],
   "source": [
    "X = 4\n",
    "# number of voters\n",
    "N = 100\n",
    "# number of issues\n",
    "I_range = [5, 10]\n",
    "B_range = [0,1,2,3,4,5,9,10]\n",
    "# number of breaking points\n",
    "\n",
    "poll_results = [0.3, 0.3, 0.2, 0.2]\n",
    "random_breaking = False\n"
   ]
  },
  {
   "cell_type": "code",
   "execution_count": 4,
   "metadata": {
    "collapsed": false
   },
   "outputs": [
    {
     "name": "stdout",
     "output_type": "stream",
     "text": [
      "X = 4, N = 100, I = 5, B = 0\n",
      "saved.\n",
      "X = 4, N = 100, I = 5, B = 1\n",
      "269\r"
     ]
    },
    {
     "name": "stderr",
     "output_type": "stream",
     "text": [
      "/media/janosch/DATA/Documents/COMSOC/COMSOC_project/model.py:310: RuntimeWarning: invalid value encountered in true_divide\n",
      "  ratings = ratings/r_sum\n"
     ]
    },
    {
     "name": "stdout",
     "output_type": "stream",
     "text": [
      "saved.\n",
      "X = 4, N = 100, I = 5, B = 2\n",
      "saved.\n",
      "X = 4, N = 100, I = 5, B = 3\n",
      "saved.\n",
      "X = 4, N = 100, I = 5, B = 4\n",
      "saved.\n",
      "X = 4, N = 100, I = 5, B = 5\n",
      "saved.\n",
      "X = 4, N = 100, I = 10, B = 0\n",
      "saved.\n",
      "X = 4, N = 100, I = 10, B = 1\n",
      "saved.\n",
      "X = 4, N = 100, I = 10, B = 2\n",
      "saved.\n",
      "X = 4, N = 100, I = 10, B = 3\n",
      "saved.\n",
      "X = 4, N = 100, I = 10, B = 4\n",
      "saved.\n",
      "X = 4, N = 100, I = 10, B = 5\n",
      "saved.\n",
      "X = 4, N = 100, I = 10, B = 9\n",
      "saved.\n",
      "X = 4, N = 100, I = 10, B = 10\n",
      "saved.\n"
     ]
    }
   ],
   "source": [
    "for I in I_range:\n",
    "    for B in B_range:        \n",
    "        if B > I: continue\n",
    "            \n",
    "        print(\"X = {}, N = {}, I = {}, B = {}\".format(X, N, I, B))\n",
    "\n",
    "        grid_results = []\n",
    "\n",
    "        for i in range(1000):\n",
    "            agendas = generate_agendas(I, X)\n",
    "            profile = generate_relative_profile(N, agendas, poll_results)\n",
    "\n",
    "            vote_results = simulate_vote(agendas, profile, 1)\n",
    "\n",
    "            supporters = divide_electorate(profile, agendas)\n",
    "            keys = list(supporters.keys())\n",
    "            keys.sort()\n",
    "            no_supporters = [len(supporters[key]) for key in keys]\n",
    "            # print(\"Poll results: {}, vote results: {}, supporters: {}\".format(poll_results, vote_results, no_supporters))\n",
    "\n",
    "            if random_breaking: breaking_points = generate_breakingpoints(X, I, B)\n",
    "            else: breaking_points = derive_breaking_points(B, supporters, agendas)\n",
    "                \n",
    "\n",
    "            # print(\"Breaking points: \", breaking_points)\n",
    "\n",
    "            possible_coalitions = generate_coalitions(vote_results, agendas, breaking_points)\n",
    "            # print(possible_coalitions)\n",
    "            if len(possible_coalitions) == 0:\n",
    "                grid_results.append([-1, 0, 0])\n",
    "                continue\n",
    "\n",
    "\n",
    "            expected_outcomes = simulate_outcomes(vote_results, possible_coalitions, agendas, breaking_points)\n",
    "            ratings = rate_coalitions(possible_coalitions, agendas, vote_results, expected_outcomes, breaking_points)\n",
    "            final_expected_outcomes = np.sum([expected_outcomes[c] * ratings[c] for c in range(len(possible_coalitions))],\n",
    "                                             axis=0)\n",
    "            # if print_model: print(\"Final Expected Outcomes:\\n{}\".format(final_expected_outcomes))\n",
    "            coalition_ID = form_coalition(ratings)\n",
    "            # print(coalition_ID)\n",
    "\n",
    "            coalition = possible_coalitions[coalition_ID]\n",
    "            # print(\"Parties formed coalition {}\".format(possible_coalitions[coalition_ID]))\n",
    "            policy = form_policiy(coalition, agendas, vote_results, expected_outcomes[coalition_ID])\n",
    "            # print(\"Coalition will implement policy {}\".format(policy))\n",
    "\n",
    "            # Sanity check:\n",
    "            for index, entry in enumerate(expected_outcomes[coalition_ID]):\n",
    "                if entry == 1.0:\n",
    "                    assert policy[index] == 1.0, \"SANITY CHECK FAILED! Breaking point violated\"\n",
    "                if entry == 0.0:\n",
    "                    assert policy[index] == 0.0, \"SANITY CHECK FAILED! Breaking point violated\"\n",
    "\n",
    "            regrets = calculate_regret(policy, profile, 2)\n",
    "           \n",
    "            grid_results.append([np.mean(regrets), np.std(regrets), len(possible_coalitions)])\n",
    "\n",
    "            print(i, end='\\r')\n",
    "            \n",
    "\n",
    "        filename = \"{}-{}-{}-{}_b.pickle\".format(X,N,I,B)\n",
    "        with open(filename, 'wb') as handle:\n",
    "            pickle.dump(grid_results, handle, protocol=pickle.HIGHEST_PROTOCOL)\n",
    "        print(\"saved.\")\n",
    "        "
   ]
  },
  {
   "cell_type": "code",
   "execution_count": 22,
   "metadata": {
    "collapsed": false
   },
   "outputs": [
    {
     "name": "stdout",
     "output_type": "stream",
     "text": [
      "With 0 breaking points, on average 6.0 coalitions are possible; average agreement is 0.094228 with a std of 0.11769674598730417\n",
      "With 1 breaking points, on average 1.794 coalitions are possible; average agreement is -0.072232 with a std of 0.3983996914858243\n",
      "With 2 breaking points, on average 0.231 coalitions are possible; average agreement is -0.76078 with a std of 0.46894504539444704\n",
      "With 3 breaking points, on average 0.021 coalitions are possible; average agreement is -0.9749399999999999 with a std of 0.1757445771567362\n",
      "With 4 breaking points, on average 0.0 coalitions are possible; average agreement is -1.0 with a std of 0.0\n",
      "With 5 breaking points, on average 0.0 coalitions are possible; average agreement is -1.0 with a std of 0.0\n"
     ]
    },
    {
     "ename": "FileNotFoundError",
     "evalue": "[Errno 2] No such file or directory: '4-100-5-9_b.pickle'",
     "output_type": "error",
     "traceback": [
      "\u001b[0;31m--------------------------------------------------------------\u001b[0m",
      "\u001b[0;31mFileNotFoundError\u001b[0m            Traceback (most recent call last)",
      "\u001b[0;32m<ipython-input-22-bb7ad625de19>\u001b[0m in \u001b[0;36m<module>\u001b[0;34m()\u001b[0m\n\u001b[1;32m      6\u001b[0m \u001b[0;32mfor\u001b[0m \u001b[0mB\u001b[0m \u001b[0;32min\u001b[0m \u001b[0mB_range\u001b[0m\u001b[0;34m:\u001b[0m\u001b[0;34m\u001b[0m\u001b[0m\n\u001b[1;32m      7\u001b[0m     \u001b[0mfilename\u001b[0m \u001b[0;34m=\u001b[0m \u001b[0;34m\"4-100-5-{}_b.pickle\"\u001b[0m\u001b[0;34m.\u001b[0m\u001b[0mformat\u001b[0m\u001b[0;34m(\u001b[0m\u001b[0mB\u001b[0m\u001b[0;34m)\u001b[0m\u001b[0;34m\u001b[0m\u001b[0m\n\u001b[0;32m----> 8\u001b[0;31m     \u001b[0;32mwith\u001b[0m \u001b[0mopen\u001b[0m\u001b[0;34m(\u001b[0m\u001b[0mfilename\u001b[0m\u001b[0;34m,\u001b[0m \u001b[0;34m'rb'\u001b[0m\u001b[0;34m)\u001b[0m \u001b[0;32mas\u001b[0m \u001b[0mhandle\u001b[0m\u001b[0;34m:\u001b[0m\u001b[0;34m\u001b[0m\u001b[0m\n\u001b[0m\u001b[1;32m      9\u001b[0m         \u001b[0mgrid_results\u001b[0m \u001b[0;34m=\u001b[0m \u001b[0mpickle\u001b[0m\u001b[0;34m.\u001b[0m\u001b[0mload\u001b[0m\u001b[0;34m(\u001b[0m\u001b[0mhandle\u001b[0m\u001b[0;34m)\u001b[0m\u001b[0;34m\u001b[0m\u001b[0m\n\u001b[1;32m     10\u001b[0m     \u001b[0;31m# print(filename, \"loaded.\")\u001b[0m\u001b[0;34m\u001b[0m\u001b[0;34m\u001b[0m\u001b[0m\n",
      "\u001b[0;31mFileNotFoundError\u001b[0m: [Errno 2] No such file or directory: '4-100-5-9_b.pickle'"
     ]
    }
   ],
   "source": [
    "avg_regrets = [] \n",
    "regrets_std = [] \n",
    "avg_possible_coalitions = []\n",
    "\n",
    "counter = 0\n",
    "for B in B_range:\n",
    "    filename = \"4-100-5-{}_b.pickle\".format(B)\n",
    "    with open(filename, 'rb') as handle:\n",
    "        grid_results = pickle.load(handle)\n",
    "    # print(filename, \"loaded.\")\n",
    "    regrets = [result[0] for result in grid_results]\n",
    "    avg_regrets.append(np.sum(regrets)/len(regrets))\n",
    "    regrets_std.append(np.std(regrets))\n",
    "    no_possible_coalitions = [result[2] for result in grid_results]\n",
    "    avg_possible_coalitions.append(np.sum(no_possible_coalitions) / len(no_possible_coalitions))\n",
    "    \n",
    "    # print(regrets)\n",
    "    print(\"With {} breaking points, on average {} coalitions are possible; average agreement is {} with a std of {}\".format(B, avg_possible_coalitions[counter], avg_regrets[counter], regrets_std[counter]))\n",
    "    counter += 1"
   ]
  },
  {
   "cell_type": "code",
   "execution_count": 23,
   "metadata": {
    "collapsed": false
   },
   "outputs": [
    {
     "data": {
      "image/png": "[encoded data removed]",
      "text/plain": [
       "<matplotlib.figure.Figure at 0x7fa2bf32a080>"
      ]
     },
     "metadata": {},
     "output_type": "display_data"
    }
   ],
   "source": [
    "plot_bar_chart_regret(pd.DataFrame([avg_regrets, regrets_std]).T)"
   ]
  },
  {
   "cell_type": "code",
   "execution_count": 24,
   "metadata": {
    "collapsed": false
   },
   "outputs": [
    {
     "name": "stdout",
     "output_type": "stream",
     "text": [
      "[0, 1, 2, 3, 4, 5]\n",
      "[6.0, 1.794, 0.23100000000000001, 0.021000000000000001, 0.0, 0.0]\n"
     ]
    },
    {
     "data": {
      "image/png": "[encoded data removed]",
      "text/plain": [
       "<matplotlib.figure.Figure at 0x7fa2bf31b7f0>"
      ]
     },
     "metadata": {},
     "output_type": "display_data"
    }
   ],
   "source": [
    "objects = [B for B in B_range if B <= 5]\n",
    "print(objects)\n",
    "y_pos = np.arange(len(objects))\n",
    "print(avg_possible_coalitions)\n",
    "performance = avg_possible_coalitions\n",
    " \n",
    "plt.bar(y_pos, performance, align='center', alpha=0.5)\n",
    "plt.xticks(y_pos, objects)\n",
    "plt.ylabel('avg number of coalitions')\n",
    "plt.title('Average number of possible coalitions per number of bps')\n",
    " \n",
    "plt.show()"
   ]
  },
  {
   "cell_type": "code",
   "execution_count": 15,
   "metadata": {
    "collapsed": false
   },
   "outputs": [
    {
     "name": "stdout",
     "output_type": "stream",
     "text": [
      "With 0 breaking points, on average 6.0 coalitions are possible; average agreement is 0.07772000000000001 with a std of 0.07567510554997595\n",
      "With 1 breaking points, on average 5.2 coalitions are possible; average agreement is 0.08117999999999999 with a std of 0.08154757875007695\n",
      "With 2 breaking points, on average 3.12 coalitions are possible; average agreement is 0.024560000000000012 with a std of 0.2937002662579658\n",
      "With 3 breaking points, on average 1.56 coalitions are possible; average agreement is -0.17463999999999996 with a std of 0.466483601426674\n",
      "With 4 breaking points, on average 0.54 coalitions are possible; average agreement is -0.522 with a std of 0.5535082293877842\n",
      "With 5 breaking points, on average 0.28 coalitions are possible; average agreement is -0.7333 with a std of 0.4766841616836037\n",
      "With 9 breaking points, on average 0.0 coalitions are possible; average agreement is -1.0 with a std of 0.0\n",
      "With 10 breaking points, on average 0.0 coalitions are possible; average agreement is -1.0 with a std of 0.0\n"
     ]
    }
   ],
   "source": [
    "avg_regrets = [] \n",
    "regrets_std = [] \n",
    "avg_possible_coalitions = []\n",
    "\n",
    "counter = 0\n",
    "for B in B_range:\n",
    "    filename = \"4-100-10-{}.pickle\".format(B)\n",
    "    with open(filename, 'rb') as handle:\n",
    "        grid_results = pickle.load(handle)\n",
    "    # print(filename, \"loaded.\")\n",
    "    regrets = [result[0] for result in grid_results]\n",
    "    avg_regrets.append(np.sum(regrets)/len(regrets))\n",
    "    regrets_std.append(np.std(regrets))\n",
    "    no_possible_coalitions = [result[2] for result in grid_results]\n",
    "    avg_possible_coalitions.append(np.sum(no_possible_coalitions) / len(no_possible_coalitions))\n",
    "    \n",
    "    # print(regrets)\n",
    "    print(\"With {} breaking points, on average {} coalitions are possible; average agreement is {} with a std of {}\".format(B, avg_possible_coalitions[counter], avg_regrets[counter], regrets_std[counter]))\n",
    "    counter += 1"
   ]
  },
  {
   "cell_type": "code",
   "execution_count": 16,
   "metadata": {
    "collapsed": false
   },
   "outputs": [
    {
     "data": {
      "image/png": "[encoded data removed]",
      "text/plain": [
       "<matplotlib.figure.Figure at 0x7fa2bf619668>"
      ]
     },
     "metadata": {},
     "output_type": "display_data"
    }
   ],
   "source": [
    "plot_bar_chart_regret(pd.DataFrame([avg_regrets, regrets_std]).T)"
   ]
  },
  {
   "cell_type": "code",
   "execution_count": 17,
   "metadata": {
    "collapsed": false
   },
   "outputs": [
    {
     "name": "stdout",
     "output_type": "stream",
     "text": [
      "[0, 1, 2, 3, 4, 5, 9, 10]\n"
     ]
    },
    {
     "data": {
      "image/png": "[encoded data removed]",
      "text/plain": [
       "<matplotlib.figure.Figure at 0x7fa2bf542a90>"
      ]
     },
     "metadata": {},
     "output_type": "display_data"
    }
   ],
   "source": [
    "objects = [B for B in B_range if B <= 10]\n",
    "print(objects)\n",
    "y_pos = np.arange(len(objects))\n",
    "performance = avg_possible_coalitions\n",
    " \n",
    "plt.bar(y_pos, performance, align='center', alpha=0.5)\n",
    "plt.xticks(y_pos, objects)\n",
    "plt.ylabel('avg number of coalitions')\n",
    "plt.title('Average number of possible coalitions per number of bps')\n",
    " \n",
    "plt.show()"
   ]
  },
  {
   "cell_type": "code",
   "execution_count": 18,
   "metadata": {
    "collapsed": false
   },
   "outputs": [
    {
     "ename": "FileNotFoundError",
     "evalue": "[Errno 2] No such file or directory: '4-100-20-0.pickle'",
     "output_type": "error",
     "traceback": [
      "\u001b[0;31m--------------------------------------------------------------\u001b[0m",
      "\u001b[0;31mFileNotFoundError\u001b[0m            Traceback (most recent call last)",
      "\u001b[0;32m<ipython-input-18-a6e91424b2f3>\u001b[0m in \u001b[0;36m<module>\u001b[0;34m()\u001b[0m\n\u001b[1;32m      6\u001b[0m \u001b[0;32mfor\u001b[0m \u001b[0mB\u001b[0m \u001b[0;32min\u001b[0m \u001b[0mB_range\u001b[0m\u001b[0;34m:\u001b[0m\u001b[0;34m\u001b[0m\u001b[0m\n\u001b[1;32m      7\u001b[0m     \u001b[0mfilename\u001b[0m \u001b[0;34m=\u001b[0m \u001b[0;34m\"4-100-20-{}.pickle\"\u001b[0m\u001b[0;34m.\u001b[0m\u001b[0mformat\u001b[0m\u001b[0;34m(\u001b[0m\u001b[0mB\u001b[0m\u001b[0;34m)\u001b[0m\u001b[0;34m\u001b[0m\u001b[0m\n\u001b[0;32m----> 8\u001b[0;31m     \u001b[0;32mwith\u001b[0m \u001b[0mopen\u001b[0m\u001b[0;34m(\u001b[0m\u001b[0mfilename\u001b[0m\u001b[0;34m,\u001b[0m \u001b[0;34m'rb'\u001b[0m\u001b[0;34m)\u001b[0m \u001b[0;32mas\u001b[0m \u001b[0mhandle\u001b[0m\u001b[0;34m:\u001b[0m\u001b[0;34m\u001b[0m\u001b[0m\n\u001b[0m\u001b[1;32m      9\u001b[0m         \u001b[0mgrid_results\u001b[0m \u001b[0;34m=\u001b[0m \u001b[0mpickle\u001b[0m\u001b[0;34m.\u001b[0m\u001b[0mload\u001b[0m\u001b[0;34m(\u001b[0m\u001b[0mhandle\u001b[0m\u001b[0;34m)\u001b[0m\u001b[0;34m\u001b[0m\u001b[0m\n\u001b[1;32m     10\u001b[0m     \u001b[0;31m# print(filename, \"loaded.\")\u001b[0m\u001b[0;34m\u001b[0m\u001b[0;34m\u001b[0m\u001b[0m\n",
      "\u001b[0;31mFileNotFoundError\u001b[0m: [Errno 2] No such file or directory: '4-100-20-0.pickle'"
     ]
    }
   ],
   "source": [
    "avg_possible_coalitions = []\n",
    "avg_regrets = [] \n",
    "regrets_std = [] \n",
    "\n",
    "counter = 0\n",
    "for B in B_range:\n",
    "    filename = \"4-100-20-{}.pickle\".format(B)\n",
    "    with open(filename, 'rb') as handle:\n",
    "        grid_results = pickle.load(handle)\n",
    "    # print(filename, \"loaded.\")\n",
    "    regrets = [result[0] for result in grid_results]\n",
    "    avg_regrets.append(np.sum(regrets)/len(regrets))\n",
    "    regrets_std.append(np.std(regrets))\n",
    "    no_possible_coalitions = [result[2] for result in grid_results]\n",
    "    avg_possible_coalitions.append(np.sum(no_possible_coalitions) / len(no_possible_coalitions))\n",
    "    \n",
    "    # print(regrets)\n",
    "    print(\"With {} breaking points, on average {} coalitions are possible; average agreement is {} with a std of {}\".format(B, avg_possible_coalitions[counter], avg_regrets[counter], regrets_std[counter]))\n",
    "    counter += 1"
   ]
  },
  {
   "cell_type": "code",
   "execution_count": null,
   "metadata": {
    "collapsed": false
   },
   "outputs": [],
   "source": [
    "plot_bar_chart_regret(pd.DataFrame([avg_regrets, regrets_std]).T)"
   ]
  },
  {
   "cell_type": "code",
   "execution_count": null,
   "metadata": {
    "collapsed": false
   },
   "outputs": [],
   "source": [
    "objects = [B for B in B_range if B <= 20]\n",
    "print(objects)\n",
    "y_pos = np.arange(len(objects))\n",
    "performance = avg_possible_coalitions\n",
    " \n",
    "plt.bar(y_pos, performance, align='center', alpha=0.5)\n",
    "plt.xticks(y_pos, objects)\n",
    "plt.ylabel('avg number of coalitions')\n",
    "plt.title('Average number of possible coalitions per number of bps')\n",
    " \n",
    "plt.show()"
   ]
  },
  {
   "cell_type": "code",
   "execution_count": null,
   "metadata": {
    "collapsed": true
   },
   "outputs": [],
   "source": []
  },
  {
   "cell_type": "code",
   "execution_count": null,
   "metadata": {
    "collapsed": true
   },
   "outputs": [],
   "source": []
  },
  {
   "cell_type": "code",
   "execution_count": null,
   "metadata": {
    "collapsed": true
   },
   "outputs": [],
   "source": []
  },
  {
   "cell_type": "code",
   "execution_count": null,
   "metadata": {
    "collapsed": true
   },
   "outputs": [],
   "source": []
  }
 ],
 "metadata": {
  "kernelspec": {
   "display_name": "Python 3",
   "language": "python",
   "name": "python3"
  },
  "language_info": {
   "codemirror_mode": {
    "name": "ipython",
    "version": 3
   },
   "file_extension": ".py",
   "mimetype": "text/x-python",
   "name": "python",
   "nbconvert_exporter": "python",
   "pygments_lexer": "ipython3",
   "version": "3.6.0"
  }
 },
 "nbformat": 4,
 "nbformat_minor": 2
}
