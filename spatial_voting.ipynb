{
 "cells": [
  {
   "cell_type": "code",
   "execution_count": 1,
   "metadata": {
    "collapsed": false
   },
   "outputs": [],
   "source": [
    "### IMPORTANT: RESTART KERNEL AFTER UPDATING THE MODEL TO INVOKE CHANGES! ### \n",
    "from model import *\n",
    "from plotting import *\n",
    "from analysis import *\n",
    "import pickle\n",
    "\n",
    "print_model = True\n",
    "print_analysis = True"
   ]
  },
  {
   "cell_type": "code",
   "execution_count": 2,
   "metadata": {
    "collapsed": false
   },
   "outputs": [],
   "source": [
    "X = 4\n",
    "# number of voters\n",
    "N = 100\n",
    "# number of issues\n",
    "I_range = [5, 10]\n",
    "B_range = [0,1,2,3,4,5,9,10]\n",
    "# number of breaking points\n",
    "\n",
    "poll_results = [0.3, 0.3, 0.2, 0.2]\n"
   ]
  },
  {
   "cell_type": "code",
   "execution_count": 4,
   "metadata": {
    "collapsed": false
   },
   "outputs": [
    {
     "name": "stdout",
     "output_type": "stream",
     "text": [
      "X = 4, N = 100, I = 5, B = 0\n",
      "saved.\n",
      "X = 4, N = 100, I = 5, B = 1\n",
      "saved.\n",
      "X = 4, N = 100, I = 5, B = 2\n",
      "57\r"
     ]
    },
    {
     "name": "stderr",
     "output_type": "stream",
     "text": [
      "/media/janosch/DATA/Documents/COMSOC/COMSOC_project/model.py:310: RuntimeWarning: invalid value encountered in true_divide\n",
      "  ratings = ratings/r_sum\n"
     ]
    },
    {
     "name": "stdout",
     "output_type": "stream",
     "text": [
      "saved.\n",
      "X = 4, N = 100, I = 5, B = 3\n",
      "saved.\n",
      "X = 4, N = 100, I = 5, B = 4\n",
      "saved.\n",
      "X = 4, N = 100, I = 5, B = 5\n",
      "saved.\n",
      "X = 4, N = 100, I = 10, B = 0\n",
      "saved.\n",
      "X = 4, N = 100, I = 10, B = 1\n",
      "saved.\n",
      "X = 4, N = 100, I = 10, B = 2\n",
      "saved.\n",
      "X = 4, N = 100, I = 10, B = 3\n",
      "saved.\n",
      "X = 4, N = 100, I = 10, B = 4\n",
      "saved.\n",
      "X = 4, N = 100, I = 10, B = 5\n",
      "saved.\n",
      "X = 4, N = 100, I = 10, B = 9\n",
      "saved.\n",
      "X = 4, N = 100, I = 10, B = 10\n",
      "saved.\n"
     ]
    }
   ],
   "source": [
    "for I in I_range:\n",
    "    for B in B_range:        \n",
    "        if B > I: continue\n",
    "            \n",
    "        print(\"X = {}, N = {}, I = {}, B = {}\".format(X, N, I, B))\n",
    "\n",
    "        grid_results = []\n",
    "\n",
    "        for i in range(100):\n",
    "            agendas = generate_agendas(I, X)\n",
    "            profile = generate_relative_profile(N, agendas, poll_results)\n",
    "\n",
    "            vote_results = simulate_vote(agendas, profile, 1)\n",
    "            # print(\"Poll results: {}, vote results: {}\".format(poll_results, vote_results))\n",
    "\n",
    "            breaking_points = generate_breakingpoints(X, I, B)           \n",
    "            \n",
    "            possible_coalitions = generate_coalitions(vote_results, agendas, breaking_points)\n",
    "\n",
    "            # print(possible_coalitions)\n",
    "            if len(possible_coalitions) == 0:\n",
    "                grid_results.append([-1, 0, 0])\n",
    "                continue\n",
    "\n",
    "            expected_outcomes = simulate_outcomes(vote_results, possible_coalitions, agendas, breaking_points)\n",
    "            ratings = rate_coalitions(possible_coalitions, agendas, vote_results, expected_outcomes, breaking_points)\n",
    "            final_expected_outcomes = np.sum([expected_outcomes[c] * ratings[c] for c in range(len(possible_coalitions))],\n",
    "                                             axis=0)\n",
    "            # if print_model: print(\"Final Expected Outcomes:\\n{}\".format(final_expected_outcomes))\n",
    "            coalition_ID = form_coalition(ratings)\n",
    "            # print(coalition_ID)\n",
    "\n",
    "            coalition = possible_coalitions[coalition_ID]\n",
    "            # print(\"Parties formed coalition {}\".format(possible_coaltitions[coalition_ID]))\n",
    "            policy = form_policiy(coalition, agendas, vote_results, expected_outcomes[coalition_ID])\n",
    "            # print(\"Coalition will implement policy {}\".format(policy))\n",
    "\n",
    "            # Sanity check:\n",
    "            for index, entry in enumerate(expected_outcomes[coalition_ID]):\n",
    "                if entry == 1.0:\n",
    "                    assert policy[index] == 1.0, \"SANITY CHECK FAILED! Breaking point violated\"\n",
    "                if entry == 0.0:\n",
    "                    assert policy[index] == 0.0, \"SANITY CHECK FAILED! Breaking point violated\"\n",
    "\n",
    "            regrets = calculate_regret(policy, profile, 2)\n",
    "            # print(\"Total regret is {}, with mean {}, max of {} and min of {}. Std is {}\".format(np.sum(regrets), np.mean(regrets), np.max(regrets), np.min(regrets), np.std(regrets)))\n",
    "            grid_results.append([np.mean(regrets), np.std(regrets), len(possible_coalitions)])\n",
    "\n",
    "            print(i, end='\\r')\n",
    "\n",
    "        filename = \"{}-{}-{}-{}.pickle\".format(X,N,I,B)\n",
    "        with open(filename, 'wb') as handle:\n",
    "            pickle.dump(grid_results, handle, protocol=pickle.HIGHEST_PROTOCOL)\n",
    "        print(\"saved.\")"
   ]
  },
  {
   "cell_type": "code",
   "execution_count": 5,
   "metadata": {
    "collapsed": false
   },
   "outputs": [
    {
     "name": "stdout",
     "output_type": "stream",
     "text": [
      "With 0 breaking points, on average 6.0 coalitions are possible; average agreement is 0.08379999999999999 with a std of 0.12690705260150045\n",
      "With 1 breaking points, on average 4.22 coalitions are possible; average agreement is 0.07648 with a std of 0.2290392315739817\n",
      "With 2 breaking points, on average 1.92 coalitions are possible; average agreement is -0.09435999999999996 with a std of 0.4480403892507906\n",
      "With 3 breaking points, on average 0.64 coalitions are possible; average agreement is -0.4488000000000001 with a std of 0.5785947113481076\n",
      "With 4 breaking points, on average 0.04 coalitions are possible; average agreement is -0.9538 with a std of 0.22674346738109125\n",
      "With 5 breaking points, on average 0.0 coalitions are possible; average agreement is -1.0 with a std of 0.0\n"
     ]
    },
    {
     "ename": "FileNotFoundError",
     "evalue": "[Errno 2] No such file or directory: '4-100-5-9.pickle'",
     "output_type": "error",
     "traceback": [
      "\u001b[0;31m--------------------------------------------------------------\u001b[0m",
      "\u001b[0;31mFileNotFoundError\u001b[0m            Traceback (most recent call last)",
      "\u001b[0;32m<ipython-input-5-50506672d588>\u001b[0m in \u001b[0;36m<module>\u001b[0;34m()\u001b[0m\n\u001b[1;32m      6\u001b[0m \u001b[0;32mfor\u001b[0m \u001b[0mB\u001b[0m \u001b[0;32min\u001b[0m \u001b[0mB_range\u001b[0m\u001b[0;34m:\u001b[0m\u001b[0;34m\u001b[0m\u001b[0m\n\u001b[1;32m      7\u001b[0m     \u001b[0mfilename\u001b[0m \u001b[0;34m=\u001b[0m \u001b[0;34m\"4-100-5-{}.pickle\"\u001b[0m\u001b[0;34m.\u001b[0m\u001b[0mformat\u001b[0m\u001b[0;34m(\u001b[0m\u001b[0mB\u001b[0m\u001b[0;34m)\u001b[0m\u001b[0;34m\u001b[0m\u001b[0m\n\u001b[0;32m----> 8\u001b[0;31m     \u001b[0;32mwith\u001b[0m \u001b[0mopen\u001b[0m\u001b[0;34m(\u001b[0m\u001b[0mfilename\u001b[0m\u001b[0;34m,\u001b[0m \u001b[0;34m'rb'\u001b[0m\u001b[0;34m)\u001b[0m \u001b[0;32mas\u001b[0m \u001b[0mhandle\u001b[0m\u001b[0;34m:\u001b[0m\u001b[0;34m\u001b[0m\u001b[0m\n\u001b[0m\u001b[1;32m      9\u001b[0m         \u001b[0mgrid_results\u001b[0m \u001b[0;34m=\u001b[0m \u001b[0mpickle\u001b[0m\u001b[0;34m.\u001b[0m\u001b[0mload\u001b[0m\u001b[0;34m(\u001b[0m\u001b[0mhandle\u001b[0m\u001b[0;34m)\u001b[0m\u001b[0;34m\u001b[0m\u001b[0m\n\u001b[1;32m     10\u001b[0m     \u001b[0;31m# print(filename, \"loaded.\")\u001b[0m\u001b[0;34m\u001b[0m\u001b[0;34m\u001b[0m\u001b[0m\n",
      "\u001b[0;31mFileNotFoundError\u001b[0m: [Errno 2] No such file or directory: '4-100-5-9.pickle'"
     ]
    }
   ],
   "source": [
    "avg_regrets = [] \n",
    "regrets_std = [] \n",
    "avg_possible_coalitions = []\n",
    "\n",
    "counter = 0\n",
    "for B in B_range:\n",
    "    filename = \"4-100-5-{}.pickle\".format(B)\n",
    "    with open(filename, 'rb') as handle:\n",
    "        grid_results = pickle.load(handle)\n",
    "    # print(filename, \"loaded.\")\n",
    "    regrets = [result[0] for result in grid_results]\n",
    "    avg_regrets.append(np.sum(regrets)/len(regrets))\n",
    "    regrets_std.append(np.std(regrets))\n",
    "    no_possible_coalitions = [result[2] for result in grid_results]\n",
    "    avg_possible_coalitions.append(np.sum(no_possible_coalitions) / len(no_possible_coalitions))\n",
    "    \n",
    "    # print(regrets)\n",
    "    print(\"With {} breaking points, on average {} coalitions are possible; average agreement is {} with a std of {}\".format(B, avg_possible_coalitions[counter], avg_regrets[counter], regrets_std[counter]))\n",
    "    counter += 1"
   ]
  },
  {
   "cell_type": "code",
   "execution_count": 6,
   "metadata": {
    "collapsed": false
   },
   "outputs": [
    {
     "data": {
      "image/png": "[encoded data removed]",
      "text/plain": [
       "<matplotlib.figure.Figure at 0x7f93ed7c8c18>"
      ]
     },
     "metadata": {},
     "output_type": "display_data"
    }
   ],
   "source": [
    "plot_bar_chart_regret(pd.DataFrame([avg_regrets, regrets_std]).T)"
   ]
  },
  {
   "cell_type": "code",
   "execution_count": 7,
   "metadata": {
    "collapsed": false
   },
   "outputs": [
    {
     "name": "stdout",
     "output_type": "stream",
     "text": [
      "[0, 1, 2, 3, 4, 5]\n"
     ]
    },
    {
     "data": {
      "image/png": "[encoded data removed]",
      "text/plain": [
       "<matplotlib.figure.Figure at 0x7f93ed710b00>"
      ]
     },
     "metadata": {},
     "output_type": "display_data"
    }
   ],
   "source": [
    "objects = [B for B in B_range if B <= 5]\n",
    "print(objects)\n",
    "y_pos = np.arange(len(objects))\n",
    "performance = avg_possible_coalitions\n",
    " \n",
    "plt.bar(y_pos, performance, align='center', alpha=0.5)\n",
    "plt.xticks(y_pos, objects)\n",
    "plt.ylabel('avg number of coalitions')\n",
    "plt.title('Average number of possible coalitions per number of bps')\n",
    " \n",
    "plt.show()"
   ]
  },
  {
   "cell_type": "code",
   "execution_count": 8,
   "metadata": {
    "collapsed": false
   },
   "outputs": [
    {
     "name": "stdout",
     "output_type": "stream",
     "text": [
      "With 0 breaking points, on average 6.0 coalitions are possible; average agreement is 0.07848 with a std of 0.06528958263000308\n",
      "With 1 breaking points, on average 5.15 coalitions are possible; average agreement is 0.06871999999999999 with a std of 0.07447282457380008\n",
      "With 2 breaking points, on average 3.01 coalitions are possible; average agreement is 0.01492 with a std of 0.26606080808717397\n",
      "With 3 breaking points, on average 1.41 coalitions are possible; average agreement is -0.17670000000000002 with a std of 0.47972386849103094\n",
      "With 4 breaking points, on average 0.6 coalitions are possible; average agreement is -0.50152 with a std of 0.5533313018436604\n",
      "With 5 breaking points, on average 0.2 coalitions are possible; average agreement is -0.7923399999999999 with a std of 0.42951917815156976\n",
      "With 9 breaking points, on average 0.0 coalitions are possible; average agreement is -1.0 with a std of 0.0\n",
      "With 10 breaking points, on average 0.0 coalitions are possible; average agreement is -1.0 with a std of 0.0\n"
     ]
    }
   ],
   "source": [
    "avg_regrets = [] \n",
    "regrets_std = [] \n",
    "avg_possible_coalitions = []\n",
    "\n",
    "counter = 0\n",
    "for B in B_range:\n",
    "    filename = \"4-100-10-{}.pickle\".format(B)\n",
    "    with open(filename, 'rb') as handle:\n",
    "        grid_results = pickle.load(handle)\n",
    "    # print(filename, \"loaded.\")\n",
    "    regrets = [result[0] for result in grid_results]\n",
    "    avg_regrets.append(np.sum(regrets)/len(regrets))\n",
    "    regrets_std.append(np.std(regrets))\n",
    "    no_possible_coalitions = [result[2] for result in grid_results]\n",
    "    avg_possible_coalitions.append(np.sum(no_possible_coalitions) / len(no_possible_coalitions))\n",
    "    \n",
    "    # print(regrets)\n",
    "    print(\"With {} breaking points, on average {} coalitions are possible; average agreement is {} with a std of {}\".format(B, avg_possible_coalitions[counter], avg_regrets[counter], regrets_std[counter]))\n",
    "    counter += 1"
   ]
  },
  {
   "cell_type": "code",
   "execution_count": 9,
   "metadata": {
    "collapsed": false
   },
   "outputs": [
    {
     "data": {
      "image/png": "[encoded data removed]",
      "text/plain": [
       "<matplotlib.figure.Figure at 0x7f93e7da1b00>"
      ]
     },
     "metadata": {},
     "output_type": "display_data"
    }
   ],
   "source": [
    "plot_bar_chart_regret(pd.DataFrame([avg_regrets, regrets_std]).T)"
   ]
  },
  {
   "cell_type": "code",
   "execution_count": 10,
   "metadata": {
    "collapsed": false
   },
   "outputs": [
    {
     "name": "stdout",
     "output_type": "stream",
     "text": [
      "[0, 1, 2, 3, 4, 5, 9, 10]\n"
     ]
    },
    {
     "data": {
      "image/png": "[encoded data removed]",
      "text/plain": [
       "<matplotlib.figure.Figure at 0x7f93e7d8f518>"
      ]
     },
     "metadata": {},
     "output_type": "display_data"
    }
   ],
   "source": [
    "objects = [B for B in B_range if B <= 10]\n",
    "print(objects)\n",
    "y_pos = np.arange(len(objects))\n",
    "performance = avg_possible_coalitions\n",
    " \n",
    "plt.bar(y_pos, performance, align='center', alpha=0.5)\n",
    "plt.xticks(y_pos, objects)\n",
    "plt.ylabel('avg number of coalitions')\n",
    "plt.title('Average number of possible coalitions per number of bps')\n",
    " \n",
    "plt.show()"
   ]
  },
  {
   "cell_type": "code",
   "execution_count": 11,
   "metadata": {
    "collapsed": false
   },
   "outputs": [
    {
     "ename": "FileNotFoundError",
     "evalue": "[Errno 2] No such file or directory: '4-100-20-0.pickle'",
     "output_type": "error",
     "traceback": [
      "\u001b[0;31m--------------------------------------------------------------\u001b[0m",
      "\u001b[0;31mFileNotFoundError\u001b[0m            Traceback (most recent call last)",
      "\u001b[0;32m<ipython-input-11-a6e91424b2f3>\u001b[0m in \u001b[0;36m<module>\u001b[0;34m()\u001b[0m\n\u001b[1;32m      6\u001b[0m \u001b[0;32mfor\u001b[0m \u001b[0mB\u001b[0m \u001b[0;32min\u001b[0m \u001b[0mB_range\u001b[0m\u001b[0;34m:\u001b[0m\u001b[0;34m\u001b[0m\u001b[0m\n\u001b[1;32m      7\u001b[0m     \u001b[0mfilename\u001b[0m \u001b[0;34m=\u001b[0m \u001b[0;34m\"4-100-20-{}.pickle\"\u001b[0m\u001b[0;34m.\u001b[0m\u001b[0mformat\u001b[0m\u001b[0;34m(\u001b[0m\u001b[0mB\u001b[0m\u001b[0;34m)\u001b[0m\u001b[0;34m\u001b[0m\u001b[0m\n\u001b[0;32m----> 8\u001b[0;31m     \u001b[0;32mwith\u001b[0m \u001b[0mopen\u001b[0m\u001b[0;34m(\u001b[0m\u001b[0mfilename\u001b[0m\u001b[0;34m,\u001b[0m \u001b[0;34m'rb'\u001b[0m\u001b[0;34m)\u001b[0m \u001b[0;32mas\u001b[0m \u001b[0mhandle\u001b[0m\u001b[0;34m:\u001b[0m\u001b[0;34m\u001b[0m\u001b[0m\n\u001b[0m\u001b[1;32m      9\u001b[0m         \u001b[0mgrid_results\u001b[0m \u001b[0;34m=\u001b[0m \u001b[0mpickle\u001b[0m\u001b[0;34m.\u001b[0m\u001b[0mload\u001b[0m\u001b[0;34m(\u001b[0m\u001b[0mhandle\u001b[0m\u001b[0;34m)\u001b[0m\u001b[0;34m\u001b[0m\u001b[0m\n\u001b[1;32m     10\u001b[0m     \u001b[0;31m# print(filename, \"loaded.\")\u001b[0m\u001b[0;34m\u001b[0m\u001b[0;34m\u001b[0m\u001b[0m\n",
      "\u001b[0;31mFileNotFoundError\u001b[0m: [Errno 2] No such file or directory: '4-100-20-0.pickle'"
     ]
    }
   ],
   "source": [
    "avg_possible_coalitions = []\n",
    "avg_regrets = [] \n",
    "regrets_std = [] \n",
    "\n",
    "counter = 0\n",
    "for B in B_range:\n",
    "    filename = \"4-100-20-{}.pickle\".format(B)\n",
    "    with open(filename, 'rb') as handle:\n",
    "        grid_results = pickle.load(handle)\n",
    "    # print(filename, \"loaded.\")\n",
    "    regrets = [result[0] for result in grid_results]\n",
    "    avg_regrets.append(np.sum(regrets)/len(regrets))\n",
    "    regrets_std.append(np.std(regrets))\n",
    "    no_possible_coalitions = [result[2] for result in grid_results]\n",
    "    avg_possible_coalitions.append(np.sum(no_possible_coalitions) / len(no_possible_coalitions))\n",
    "    \n",
    "    # print(regrets)\n",
    "    print(\"With {} breaking points, on average {} coalitions are possible; average agreement is {} with a std of {}\".format(B, avg_possible_coalitions[counter], avg_regrets[counter], regrets_std[counter]))\n",
    "    counter += 1"
   ]
  },
  {
   "cell_type": "code",
   "execution_count": 12,
   "metadata": {
    "collapsed": false
   },
   "outputs": [
    {
     "ename": "ValueError",
     "evalue": "min() arg is an empty sequence",
     "output_type": "error",
     "traceback": [
      "\u001b[0;31m--------------------------------------------------------------\u001b[0m",
      "\u001b[0;31mValueError\u001b[0m                   Traceback (most recent call last)",
      "\u001b[0;32m<ipython-input-12-7e43a0bd2990>\u001b[0m in \u001b[0;36m<module>\u001b[0;34m()\u001b[0m\n\u001b[0;32m----> 1\u001b[0;31m \u001b[0mplot_bar_chart_regret\u001b[0m\u001b[0;34m(\u001b[0m\u001b[0mpd\u001b[0m\u001b[0;34m.\u001b[0m\u001b[0mDataFrame\u001b[0m\u001b[0;34m(\u001b[0m\u001b[0;34m[\u001b[0m\u001b[0mavg_regrets\u001b[0m\u001b[0;34m,\u001b[0m \u001b[0mregrets_std\u001b[0m\u001b[0;34m]\u001b[0m\u001b[0;34m)\u001b[0m\u001b[0;34m.\u001b[0m\u001b[0mT\u001b[0m\u001b[0;34m)\u001b[0m\u001b[0;34m\u001b[0m\u001b[0m\n\u001b[0m",
      "\u001b[0;32m/media/janosch/DATA/Documents/COMSOC/COMSOC_project/plotting.py\u001b[0m in \u001b[0;36mplot_bar_chart_regret\u001b[0;34m(df)\u001b[0m\n\u001b[1;32m    114\u001b[0m \u001b[0;34m\u001b[0m\u001b[0m\n\u001b[1;32m    115\u001b[0m     \u001b[0;31m# Setting the x-axis and y-axis limits\u001b[0m\u001b[0;34m\u001b[0m\u001b[0;34m\u001b[0m\u001b[0m\n\u001b[0;32m--> 116\u001b[0;31m     \u001b[0mplt\u001b[0m\u001b[0;34m.\u001b[0m\u001b[0mxlim\u001b[0m\u001b[0;34m(\u001b[0m\u001b[0mmin\u001b[0m\u001b[0;34m(\u001b[0m\u001b[0mpos\u001b[0m\u001b[0;34m)\u001b[0m \u001b[0;34m-\u001b[0m \u001b[0mwidth\u001b[0m\u001b[0;34m,\u001b[0m \u001b[0mmax\u001b[0m\u001b[0;34m(\u001b[0m\u001b[0mpos\u001b[0m\u001b[0;34m)\u001b[0m \u001b[0;34m+\u001b[0m \u001b[0mwidth\u001b[0m \u001b[0;34m*\u001b[0m \u001b[0;36m4\u001b[0m\u001b[0;34m)\u001b[0m\u001b[0;34m\u001b[0m\u001b[0m\n\u001b[0m\u001b[1;32m    117\u001b[0m     \u001b[0;31m# plt.ylim([0, max(df['pre_score'] + df['mid_score'] + df['post_score'])])\u001b[0m\u001b[0;34m\u001b[0m\u001b[0;34m\u001b[0m\u001b[0m\n\u001b[1;32m    118\u001b[0m \u001b[0;34m\u001b[0m\u001b[0m\n",
      "\u001b[0;31mValueError\u001b[0m: min() arg is an empty sequence"
     ]
    }
   ],
   "source": [
    "plot_bar_chart_regret(pd.DataFrame([avg_regrets, regrets_std]).T)"
   ]
  },
  {
   "cell_type": "code",
   "execution_count": 13,
   "metadata": {
    "collapsed": false
   },
   "outputs": [
    {
     "name": "stdout",
     "output_type": "stream",
     "text": [
      "[0, 1, 2, 3, 4, 5, 9, 10]\n"
     ]
    },
    {
     "ename": "ValueError",
     "evalue": "incompatible sizes: argument 'height' must be length 8 or scalar",
     "output_type": "error",
     "traceback": [
      "\u001b[0;31m--------------------------------------------------------------\u001b[0m",
      "\u001b[0;31mValueError\u001b[0m                   Traceback (most recent call last)",
      "\u001b[0;32m<ipython-input-13-c5b41958f5fe>\u001b[0m in \u001b[0;36m<module>\u001b[0;34m()\u001b[0m\n\u001b[1;32m      4\u001b[0m \u001b[0mperformance\u001b[0m \u001b[0;34m=\u001b[0m \u001b[0mavg_possible_coalitions\u001b[0m\u001b[0;34m\u001b[0m\u001b[0m\n\u001b[1;32m      5\u001b[0m \u001b[0;34m\u001b[0m\u001b[0m\n\u001b[0;32m----> 6\u001b[0;31m \u001b[0mplt\u001b[0m\u001b[0;34m.\u001b[0m\u001b[0mbar\u001b[0m\u001b[0;34m(\u001b[0m\u001b[0my_pos\u001b[0m\u001b[0;34m,\u001b[0m \u001b[0mperformance\u001b[0m\u001b[0;34m,\u001b[0m \u001b[0malign\u001b[0m\u001b[0;34m=\u001b[0m\u001b[0;34m'center'\u001b[0m\u001b[0;34m,\u001b[0m \u001b[0malpha\u001b[0m\u001b[0;34m=\u001b[0m\u001b[0;36m0.5\u001b[0m\u001b[0;34m)\u001b[0m\u001b[0;34m\u001b[0m\u001b[0m\n\u001b[0m\u001b[1;32m      7\u001b[0m \u001b[0mplt\u001b[0m\u001b[0;34m.\u001b[0m\u001b[0mxticks\u001b[0m\u001b[0;34m(\u001b[0m\u001b[0my_pos\u001b[0m\u001b[0;34m,\u001b[0m \u001b[0mobjects\u001b[0m\u001b[0;34m)\u001b[0m\u001b[0;34m\u001b[0m\u001b[0m\n\u001b[1;32m      8\u001b[0m \u001b[0mplt\u001b[0m\u001b[0;34m.\u001b[0m\u001b[0mylabel\u001b[0m\u001b[0;34m(\u001b[0m\u001b[0;34m'avg number of coalitions'\u001b[0m\u001b[0;34m)\u001b[0m\u001b[0;34m\u001b[0m\u001b[0m\n",
      "\u001b[0;32m/home/janosch/anaconda3/lib/python3.6/site-packages/matplotlib/pyplot.py\u001b[0m in \u001b[0;36mbar\u001b[0;34m(left, height, width, bottom, hold, data, **kwargs)\u001b[0m\n\u001b[1;32m   2703\u001b[0m     \u001b[0;32mtry\u001b[0m\u001b[0;34m:\u001b[0m\u001b[0;34m\u001b[0m\u001b[0m\n\u001b[1;32m   2704\u001b[0m         ret = ax.bar(left, height, width=width, bottom=bottom, data=data,\n\u001b[0;32m-> 2705\u001b[0;31m                      **kwargs)\n\u001b[0m\u001b[1;32m   2706\u001b[0m     \u001b[0;32mfinally\u001b[0m\u001b[0;34m:\u001b[0m\u001b[0;34m\u001b[0m\u001b[0m\n\u001b[1;32m   2707\u001b[0m         \u001b[0max\u001b[0m\u001b[0;34m.\u001b[0m\u001b[0m_hold\u001b[0m \u001b[0;34m=\u001b[0m \u001b[0mwashold\u001b[0m\u001b[0;34m\u001b[0m\u001b[0m\n",
      "\u001b[0;32m/home/janosch/anaconda3/lib/python3.6/site-packages/matplotlib/__init__.py\u001b[0m in \u001b[0;36minner\u001b[0;34m(ax, *args, **kwargs)\u001b[0m\n\u001b[1;32m   1890\u001b[0m                     warnings.warn(msg % (label_namer, func.__name__),\n\u001b[1;32m   1891\u001b[0m                                   RuntimeWarning, stacklevel=2)\n\u001b[0;32m-> 1892\u001b[0;31m             \u001b[0;32mreturn\u001b[0m \u001b[0mfunc\u001b[0m\u001b[0;34m(\u001b[0m\u001b[0max\u001b[0m\u001b[0;34m,\u001b[0m \u001b[0;34m*\u001b[0m\u001b[0margs\u001b[0m\u001b[0;34m,\u001b[0m \u001b[0;34m**\u001b[0m\u001b[0mkwargs\u001b[0m\u001b[0;34m)\u001b[0m\u001b[0;34m\u001b[0m\u001b[0m\n\u001b[0m\u001b[1;32m   1893\u001b[0m         \u001b[0mpre_doc\u001b[0m \u001b[0;34m=\u001b[0m \u001b[0minner\u001b[0m\u001b[0;34m.\u001b[0m\u001b[0m__doc__\u001b[0m\u001b[0;34m\u001b[0m\u001b[0m\n\u001b[1;32m   1894\u001b[0m         \u001b[0;32mif\u001b[0m \u001b[0mpre_doc\u001b[0m \u001b[0;32mis\u001b[0m \u001b[0;32mNone\u001b[0m\u001b[0;34m:\u001b[0m\u001b[0;34m\u001b[0m\u001b[0m\n",
      "\u001b[0;32m/home/janosch/anaconda3/lib/python3.6/site-packages/matplotlib/axes/_axes.py\u001b[0m in \u001b[0;36mbar\u001b[0;34m(self, left, height, width, bottom, **kwargs)\u001b[0m\n\u001b[1;32m   2077\u001b[0m         \u001b[0;32mif\u001b[0m \u001b[0mlen\u001b[0m\u001b[0;34m(\u001b[0m\u001b[0mheight\u001b[0m\u001b[0;34m)\u001b[0m \u001b[0;34m!=\u001b[0m \u001b[0mnbars\u001b[0m\u001b[0;34m:\u001b[0m\u001b[0;34m\u001b[0m\u001b[0m\n\u001b[1;32m   2078\u001b[0m             raise ValueError(\"incompatible sizes: argument 'height' \"\n\u001b[0;32m-> 2079\u001b[0;31m                               \"must be length %d or scalar\" % nbars)\n\u001b[0m\u001b[1;32m   2080\u001b[0m         \u001b[0;32mif\u001b[0m \u001b[0mlen\u001b[0m\u001b[0;34m(\u001b[0m\u001b[0mwidth\u001b[0m\u001b[0;34m)\u001b[0m \u001b[0;34m!=\u001b[0m \u001b[0mnbars\u001b[0m\u001b[0;34m:\u001b[0m\u001b[0;34m\u001b[0m\u001b[0m\n\u001b[1;32m   2081\u001b[0m             raise ValueError(\"incompatible sizes: argument 'width' \"\n",
      "\u001b[0;31mValueError\u001b[0m: incompatible sizes: argument 'height' must be length 8 or scalar"
     ]
    }
   ],
   "source": [
    "objects = [B for B in B_range if B <= 20]\n",
    "print(objects)\n",
    "y_pos = np.arange(len(objects))\n",
    "performance = avg_possible_coalitions\n",
    " \n",
    "plt.bar(y_pos, performance, align='center', alpha=0.5)\n",
    "plt.xticks(y_pos, objects)\n",
    "plt.ylabel('avg number of coalitions')\n",
    "plt.title('Average number of possible coalitions per number of bps')\n",
    " \n",
    "plt.show()"
   ]
  },
  {
   "cell_type": "code",
   "execution_count": null,
   "metadata": {
    "collapsed": true
   },
   "outputs": [],
   "source": []
  },
  {
   "cell_type": "code",
   "execution_count": null,
   "metadata": {
    "collapsed": true
   },
   "outputs": [],
   "source": []
  },
  {
   "cell_type": "code",
   "execution_count": null,
   "metadata": {
    "collapsed": true
   },
   "outputs": [],
   "source": []
  },
  {
   "cell_type": "code",
   "execution_count": null,
   "metadata": {
    "collapsed": true
   },
   "outputs": [],
   "source": []
  }
 ],
 "metadata": {
  "kernelspec": {
   "display_name": "Python 3",
   "language": "python",
   "name": "python3"
  },
  "language_info": {
   "codemirror_mode": {
    "name": "ipython",
    "version": 3
   },
   "file_extension": ".py",
   "mimetype": "text/x-python",
   "name": "python",
   "nbconvert_exporter": "python",
   "pygments_lexer": "ipython3",
   "version": "3.6.0"
  }
 },
 "nbformat": 4,
 "nbformat_minor": 2
}
