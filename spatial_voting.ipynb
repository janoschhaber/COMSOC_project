{
 "cells": [
  {
   "cell_type": "code",
   "execution_count": 1,
   "metadata": {
    "collapsed": false
   },
   "outputs": [],
   "source": [
    "### IMPORTANT: RESTART KERNEL AFTER UPDATING THE MODEL TO INVOKE CHANGES! ### \n",
    "from model import *\n",
    "from plotting import *\n",
    "from analysis import *\n",
    "\n",
    "print_model = True\n",
    "print_analysis = True"
   ]
  },
  {
   "cell_type": "code",
   "execution_count": 2,
   "metadata": {
    "collapsed": false
   },
   "outputs": [
    {
     "name": "stdout",
     "output_type": "stream",
     "text": [
      "X = 3, N = 100, I = 10, B = 1\n",
      "Poll result:\n",
      "[ 0.34  0.33  0.33]\n",
      "Agendas:\n",
      "[[1, 1, 1, 1, 0], [0, 1, 0, 1, 0], [0, 0, 1, 0, 0]]\n"
     ]
    }
   ],
   "source": [
    "X = 3\n",
    "# number of voters\n",
    "N = 100\n",
    "# number of issues\n",
    "I = 10\n",
    "# number of breaking points\n",
    "B = 1\n",
    "print(\"X = {}, N = {}, I = {}, B = {}\".format(X, N, I, B))\n",
    "\n",
    "poll_results = simulate_poll(X, N)\n",
    "print(\"Poll result:\\n{}\".format(poll_results))\n",
    "# agendas = generate_profile(I, X)\n",
    "agendas = [[1, 1, 1, 1, 0], [0, 1, 0, 1, 0], [0, 0, 1, 0, 0]]\n",
    "print(\"Agendas:\\n{}\".format(agendas))"
   ]
  },
  {
   "cell_type": "code",
   "execution_count": 3,
   "metadata": {
    "collapsed": false
   },
   "outputs": [
    {
     "name": "stdout",
     "output_type": "stream",
     "text": [
      "Possible coalitions:\n",
      "[(0, 1), (0, 2), (1, 2), (0, 1, 2)]\n",
      "Expected Outcomes:\n",
      "[array([ 0.50746269,  1.        ,  0.50746269,  1.        ,  0.        ]), array([ 0.50746269,  0.50746269,  1.        ,  0.50746269,  0.        ]), array([ 0. ,  0.5,  0.5,  0.5,  0. ]), array([ 0.34,  0.67,  0.67,  0.67,  0.  ])]\n",
      "Ratings:\n",
      "[ 0.26546091  0.25551857  0.23447781  0.24454271]\n",
      "Final Expected Outcomes:\n",
      "[ 0.34752217  0.67620957  0.6713126   0.67620957  0.        ]\n"
     ]
    }
   ],
   "source": [
    "# without breaking points\n",
    "\n",
    "breaking_points = generate_breakingpoints(X, I, 0)\n",
    "\n",
    "possible_coaltitions = generate_coalitions(poll_results, agendas, breaking_points)\n",
    "print(\"Possible coalitions:\\n{}\".format(possible_coaltitions))\n",
    "expected_outcomes = simulate_outcomes(poll_results, possible_coaltitions, agendas, breaking_points)\n",
    "print(\"Expected Outcomes:\\n{}\".format(expected_outcomes))\n",
    "ratings = rate_coalitions(possible_coaltitions, agendas, poll_results, expected_outcomes, breaking_points)\n",
    "print(\"Ratings:\\n{}\".format(ratings))\n",
    "final_expected_outcomes = np.sum([expected_outcomes[c] * ratings[c] for c in range(len(possible_coaltitions))],\n",
    "                                 axis=0)\n",
    "print(\"Final Expected Outcomes:\\n{}\".format(final_expected_outcomes))"
   ]
  },
  {
   "cell_type": "code",
   "execution_count": 4,
   "metadata": {
    "collapsed": false
   },
   "outputs": [
    {
     "name": "stdout",
     "output_type": "stream",
     "text": [
      "Breaking points:\n",
      "[[0], [0], [3]]\n",
      "Possible coalitions:\n",
      "[(0, 2), (1, 2)]\n",
      "Expected Outcomes:\n",
      "[array([ 1.        ,  0.50746269,  1.        ,  0.        ,  0.        ]), array([ 0. ,  0.5,  0.5,  0. ,  0. ])]\n",
      "Ratings:\n",
      "[ 0.52183337  0.47816663]\n",
      "Final Expected Outcomes:\n",
      "[ 0.52183337  0.50389428  0.76091669  0.          0.        ]\n"
     ]
    }
   ],
   "source": [
    "# with breaking points\n",
    "\n",
    "# breaking_points = generate_breakingpoints(3, 10, 1)\n",
    "breaking_points = [[0], [0], [3]]\n",
    "print(\"Breaking points:\\n{}\".format(breaking_points))\n",
    "\n",
    "b_possible_coaltitions = generate_coalitions(poll_results, agendas, breaking_points)\n",
    "print(\"Possible coalitions:\\n{}\".format(b_possible_coaltitions))\n",
    "b_expected_outcomes = simulate_outcomes(poll_results, b_possible_coaltitions, agendas, breaking_points)\n",
    "print(\"Expected Outcomes:\\n{}\".format(b_expected_outcomes))\n",
    "b_ratings = rate_coalitions(b_possible_coaltitions, agendas, poll_results, b_expected_outcomes, breaking_points)\n",
    "print(\"Ratings:\\n{}\".format(b_ratings))\n",
    "b_final_expected_outcomes = np.sum([b_expected_outcomes[c] * b_ratings[c] for c in range(len(b_possible_coaltitions))], axis=0)\n",
    "print(\"Final Expected Outcomes:\\n{}\".format(b_final_expected_outcomes))\n"
   ]
  },
  {
   "cell_type": "code",
   "execution_count": 5,
   "metadata": {
    "collapsed": false
   },
   "outputs": [
    {
     "name": "stdout",
     "output_type": "stream",
     "text": [
      "\n",
      "2 coalitions became inconsistent by introducing breaking points\n"
     ]
    }
   ],
   "source": [
    "# analysis\n",
    "c_difference = len(possible_coaltitions) - len(b_possible_coaltitions)\n",
    "if print_analysis: print(\"\\n{} coalitions became inconsistent by introducing breaking points\".format(c_difference))"
   ]
  },
  {
   "cell_type": "code",
   "execution_count": 6,
   "metadata": {
    "collapsed": false
   },
   "outputs": [
    {
     "data": {
      "image/png": "[encoded data removed]",
      "text/plain": [
       "<matplotlib.figure.Figure at 0x7f65e3c2ed30>"
      ]
     },
     "metadata": {},
     "output_type": "display_data"
    }
   ],
   "source": [
    "plot_bar_chart(pd.DataFrame([final_expected_outcomes, b_final_expected_outcomes]).T)"
   ]
  },
  {
   "cell_type": "code",
   "execution_count": 7,
   "metadata": {
    "collapsed": false
   },
   "outputs": [
    {
     "name": "stdout",
     "output_type": "stream",
     "text": [
      "Likelihoods changed by [ 0.1743112  -0.17231529  0.08960409 -0.67620957  0.        ], with a total of 1.1124401552782879, averaging 0.22248803105565756 per issue.\n"
     ]
    }
   ],
   "source": [
    "l_differences, l_total_diff, l_avg_diff = calculate_likelihood_diff(final_expected_outcomes, b_final_expected_outcomes)\n",
    "\n",
    "print(\"Likelihoods changed by {}, with a total of {}, averaging {} per issue.\".format(l_differences, l_total_diff, l_avg_diff))"
   ]
  },
  {
   "cell_type": "code",
   "execution_count": 8,
   "metadata": {
    "collapsed": false
   },
   "outputs": [],
   "source": [
    "entropy = calculate_entropy(final_expected_outcomes)\n",
    "b_entroy = calculate_entropy(b_final_expected_outcomes)"
   ]
  },
  {
   "cell_type": "code",
   "execution_count": 9,
   "metadata": {
    "collapsed": false
   },
   "outputs": [
    {
     "name": "stdout",
     "output_type": "stream",
     "text": [
      "Entropy decreased by 0.1740468395272421 from 0.7324654171140244 to 0.5584185775867823\n"
     ]
    }
   ],
   "source": [
    "if entropy > b_entroy:\n",
    "    print(\"Entropy decreased by {} from {} to {}\".format(entropy-b_entroy, entropy, b_entroy))\n",
    "elif entropy < b_entroy:\n",
    "    print(\"Entropy increased by {} from {} to {}\".format(b_entroy - entropy, entropy, b_entroy))\n",
    "else:\n",
    "    print(\"Entropy remained unchanged at {}\".format(entropy))"
   ]
  },
  {
   "cell_type": "code",
   "execution_count": 10,
   "metadata": {
    "collapsed": true
   },
   "outputs": [],
   "source": [
    "entropy = calculate_entropy([0.5, 0.5, 0.5, 0.5, 0.5])\n",
    "b_entroy = calculate_entropy([1, 1, 1, 1, 1])"
   ]
  },
  {
   "cell_type": "code",
   "execution_count": 11,
   "metadata": {
    "collapsed": false
   },
   "outputs": [
    {
     "name": "stdout",
     "output_type": "stream",
     "text": [
      "Entropy decreased by 1.0 from 1.0 to 0.0\n"
     ]
    }
   ],
   "source": [
    "if entropy > b_entroy:\n",
    "    print(\"Entropy decreased by {} from {} to {}\".format(entropy-b_entroy, entropy, b_entroy))\n",
    "elif entropy < b_entroy:\n",
    "    print(\"Entropy increased by {} from {} to {}\".format(b_entroy - entropy, entropy, b_entroy))\n",
    "else:\n",
    "    print(\"Entropy remained unchanged at {}\".format(entropy))"
   ]
  },
  {
   "cell_type": "code",
   "execution_count": null,
   "metadata": {
    "collapsed": true
   },
   "outputs": [],
   "source": []
  }
 ],
 "metadata": {
  "kernelspec": {
   "display_name": "Python 3",
   "language": "python",
   "name": "python3"
  },
  "language_info": {
   "codemirror_mode": {
    "name": "ipython",
    "version": 3
   },
   "file_extension": ".py",
   "mimetype": "text/x-python",
   "name": "python",
   "nbconvert_exporter": "python",
   "pygments_lexer": "ipython3",
   "version": "3.6.0"
  }
 },
 "nbformat": 4,
 "nbformat_minor": 2
}
