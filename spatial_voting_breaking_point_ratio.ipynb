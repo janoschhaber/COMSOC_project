{
 "cells": [
  {
   "cell_type": "code",
   "execution_count": 1,
   "metadata": {
    "collapsed": true
   },
   "outputs": [],
   "source": [
    "### IMPORTANT: RESTART KERNEL AFTER UPDATING THE MODEL TO INVOKE CHANGES! ###\n",
    "from model import *\n",
    "from analysis import *\n",
    "import pickle\n",
    "\n",
    "print_model = False\n",
    "print_analysis = False\n",
    "print_experiments = False"
   ]
  },
  {
   "cell_type": "code",
   "execution_count": 2,
   "metadata": {
    "collapsed": true
   },
   "outputs": [],
   "source": [
    "settings = [\n",
    "#     X    I     N   C            W\n",
    "    [ 4,   2, 1000, \"A\", [0.3, 0.3, 0.2, 0.2]], \n",
    "    [ 4,   4, 1000, \"A\", [0.3, 0.3, 0.2, 0.2]],\n",
    "    [ 4,   6, 1000, \"A\", [0.3, 0.3, 0.2, 0.2]],\n",
    "    [ 4,   8, 1000, \"A\", [0.3, 0.3, 0.2, 0.2]],\n",
    "    [ 4,  10, 1000, \"A\", [0.3, 0.3, 0.2, 0.2]],\n",
    "    [ 4,  12, 1000, \"A\", [0.3, 0.3, 0.2, 0.2]],\n",
    "    [ 4,  14, 1000, \"A\", [0.3, 0.3, 0.2, 0.2]],\n",
    "    [ 4,  16, 1000, \"A\", [0.3, 0.3, 0.2, 0.2]],\n",
    "    [ 4,  18, 1000, \"A\", [0.3, 0.3, 0.2, 0.2]],\n",
    "    [ 4,  20, 1000, \"A\", [0.3, 0.3, 0.2, 0.2]],\n",
    "]\n",
    "\n",
    "settings = [\n",
    "#     X    I     N   C            W\n",
    "    [ 10,   2, 1000, \"A\", [0.2, 0.2, 0.1, 0.1, 0.1, 0.1, 0.05, 0.05, 0.05, 0.05]],\n",
    "    [ 10,   4, 1000, \"A\", [0.2, 0.2, 0.1, 0.1, 0.1, 0.1, 0.05, 0.05, 0.05, 0.05]],\n",
    "    [ 10,   6, 1000, \"A\", [0.2, 0.2, 0.1, 0.1, 0.1, 0.1, 0.05, 0.05, 0.05, 0.05]],\n",
    "    [ 10,   8, 1000, \"A\", [0.2, 0.2, 0.1, 0.1, 0.1, 0.1, 0.05, 0.05, 0.05, 0.05]],\n",
    "    [ 10,  10, 1000, \"A\", [0.2, 0.2, 0.1, 0.1, 0.1, 0.1, 0.05, 0.05, 0.05, 0.05]],\n",
    "    [ 10,  12, 1000, \"A\", [0.2, 0.2, 0.1, 0.1, 0.1, 0.1, 0.05, 0.05, 0.05, 0.05]],\n",
    "    [ 10,  14, 1000, \"A\", [0.2, 0.2, 0.1, 0.1, 0.1, 0.1, 0.05, 0.05, 0.05, 0.05]],\n",
    "    [ 10,  16, 1000, \"A\", [0.2, 0.2, 0.1, 0.1, 0.1, 0.1, 0.05, 0.05, 0.05, 0.05]],\n",
    "    [ 10,  18, 1000, \"A\", [0.2, 0.2, 0.1, 0.1, 0.1, 0.1, 0.05, 0.05, 0.05, 0.05]],\n",
    "    [ 10,  20, 1000, \"A\", [0.2, 0.2, 0.1, 0.1, 0.1, 0.1, 0.05, 0.05, 0.05, 0.05]]\n",
    "]"
   ]
  },
  {
   "cell_type": "code",
   "execution_count": 3,
   "metadata": {
    "collapsed": true
   },
   "outputs": [],
   "source": [
    "R = 1000"
   ]
  },
  {
   "cell_type": "code",
   "execution_count": 5,
   "metadata": {
    "collapsed": false
   },
   "outputs": [
    {
     "name": "stdout",
     "output_type": "stream",
     "text": [
      "X = 4, N = 1000, I = 2, W = [0.3, 0.3, 0.2, 0.2], 1000 iterations\n",
      "saved.\n",
      "X = 4, N = 1000, I = 4, W = [0.3, 0.3, 0.2, 0.2], 1000 iterations\n",
      "saved.\n",
      "X = 4, N = 1000, I = 6, W = [0.3, 0.3, 0.2, 0.2], 1000 iterations\n",
      "saved.\n",
      "X = 4, N = 1000, I = 8, W = [0.3, 0.3, 0.2, 0.2], 1000 iterations\n",
      "saved.\n",
      "X = 4, N = 1000, I = 10, W = [0.3, 0.3, 0.2, 0.2], 1000 iterations\n",
      "saved.\n",
      "X = 4, N = 1000, I = 12, W = [0.3, 0.3, 0.2, 0.2], 1000 iterations\n",
      "saved.\n",
      "X = 4, N = 1000, I = 14, W = [0.3, 0.3, 0.2, 0.2], 1000 iterations\n",
      "saved.\n",
      "X = 4, N = 1000, I = 16, W = [0.3, 0.3, 0.2, 0.2], 1000 iterations\n",
      "saved.\n",
      "X = 4, N = 1000, I = 18, W = [0.3, 0.3, 0.2, 0.2], 1000 iterations\n",
      "saved.\n",
      "X = 4, N = 1000, I = 20, W = [0.3, 0.3, 0.2, 0.2], 1000 iterations\n",
      "saved.\n"
     ]
    }
   ],
   "source": [
    "for setting in settings:\n",
    "    grid_results = []\n",
    "    X, I, N, C, poll_results = setting\n",
    "    print(\"X = {}, N = {}, I = {}, W = {}, {} iterations\".format(X, N, I, poll_results, R))\n",
    "    \n",
    "    for i in range(R):             \n",
    "        agendas = generate_agendas(I, X)\n",
    "\n",
    "        if print_model: print(\"Agendas: \", agendas)\n",
    "\n",
    "        supporters = generate_relative_profile(N, agendas, poll_results)\n",
    "        supporter_IDs = get_supporter_IDs(supporters, X)\n",
    "        no_supporters = [len(x_supp) for x_supp in supporters]\n",
    "        profile = [item for sublist in supporters for item in sublist]\n",
    "        \n",
    "        # if print_model: print(\"Supporters: {}\\nSupporter IDs:{}\\nNumber of supporters:{}\\nProfile: {}\".format(supporters, supporter_IDs, no_supporters, profile) )\n",
    "        \n",
    "        vote_results = simulate_vote(agendas, profile)\n",
    "        if print_model: print(\"Vote result: \", vote_results)\n",
    "\n",
    "        median_voter = np.around(np.mean(profile, axis=0))\n",
    "        if print_model: print(\"Median voter: \", median_voter)\n",
    "        \n",
    "        gold_agreement = np.mean(calculate_agreement(median_voter, profile, 1))\n",
    "        if print_model: print(\"Gold agreement: \", gold_agreement)\n",
    "            \n",
    "        for b in range(I+1):\n",
    "            breaking_points = generate_breakingpoints(X, I, b)\n",
    "            \n",
    "            if print_experiments: print(\"Experiment {}: Breaking points: {}\".format(b, breaking_points))\n",
    "\n",
    "            possible_coalitions = generate_coalitions(vote_results, agendas, breaking_points)\n",
    "            if print_analysis: print(\"{} coalitions possible\".format(len(possible_coalitions)))\n",
    "\n",
    "            if len(possible_coalitions) == 0:\n",
    "                grid_results.append([gold_agreement, 0, 0, 0])\n",
    "                if print_analysis: print(\"Expected agreement: 0 - No coalitions possible\")\n",
    "                continue\n",
    "\n",
    "            expected_outcomes = simulate_outcomes(vote_results, possible_coalitions, agendas, breaking_points)\n",
    "            # if print_model: print(\"Expected Outcomes: {}\".format(expected_outcomes))\n",
    "            ratings = rate_coalitions(possible_coalitions, agendas, vote_results, expected_outcomes, breaking_points)\n",
    "                        \n",
    "            final_expected_outcomes = np.sum([expected_outcomes[c] * ratings[c] for c in range(len(possible_coalitions))], axis=0)\n",
    "            if print_model: print(\"Expected Outcomes: {}\".format(final_expected_outcomes))\n",
    "            expected_agreements = calculate_agreement(final_expected_outcomes, profile, 1)\n",
    "            if print_analysis: print(\"Expected agreement: \", np.mean(expected_agreements))\n",
    "\n",
    "            # # # SAMPLING # # #\n",
    "\n",
    "#             coalition_ID = form_coalition(ratings)\n",
    "#             # print(coalition_ID)\n",
    "#             coalition = possible_coalitions[coalition_ID]\n",
    "#             # print(\"Parties formed coalition {}\".format(possible_coalitions[coalition_ID]))\n",
    "#             policy = form_policiy(coalition, agendas, vote_results, expected_outcomes[coalition_ID])\n",
    "#             # print(\"Coalition will implement policy {}\".format(policy))\n",
    "#             gold_disagreements = np.sum(np.absolute(np.subtract(policy, median_voter)))\n",
    "#             gold_distance = I - 2 * gold_disagreements\n",
    "\n",
    "#             agreements = calculate_agreement(policy, profile, 1)\n",
    "#             if print_analysis: print(\"Sampled agreement: \", np.mean(agreements))\n",
    "\n",
    "            entropy = calculate_entropy(final_expected_outcomes)\n",
    "            if print_analysis: print(\"Entropy: \", entropy)\n",
    "\n",
    "            grid_results.append([gold_agreement, np.mean(expected_agreements), len(possible_coalitions), entropy])\n",
    "\n",
    "            print(i, end='\\r'.format(R))\n",
    "\n",
    "    filename = \"model_runs/ratio/10-{}_issues.pickle\".format(I)\n",
    "    with open(filename, 'wb') as handle:\n",
    "        pickle.dump(grid_results, handle, protocol=pickle.HIGHEST_PROTOCOL)\n",
    "    print(\"saved.\")\n"
   ]
  },
  {
   "cell_type": "code",
   "execution_count": null,
   "metadata": {
    "collapsed": true
   },
   "outputs": [],
   "source": []
  }
 ],
 "metadata": {
  "kernelspec": {
   "display_name": "Python 3",
   "language": "python",
   "name": "python3"
  },
  "language_info": {
   "codemirror_mode": {
    "name": "ipython",
    "version": 3
   },
   "file_extension": ".py",
   "mimetype": "text/x-python",
   "name": "python",
   "nbconvert_exporter": "python",
   "pygments_lexer": "ipython3",
   "version": "3.6.0"
  }
 },
 "nbformat": 4,
 "nbformat_minor": 2
}
