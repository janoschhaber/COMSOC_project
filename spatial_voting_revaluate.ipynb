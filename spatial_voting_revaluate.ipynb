{
 "cells": [
  {
   "cell_type": "code",
   "execution_count": 1,
   "metadata": {
    "collapsed": false
   },
   "outputs": [],
   "source": [
    "### IMPORTANT: RESTART KERNEL AFTER UPDATING THE MODEL TO INVOKE CHANGES! ### \n",
    "from model import *\n",
    "from plotting import *\n",
    "from analysis import *\n",
    "import pickle\n",
    "\n",
    "print_model = True\n",
    "print_analysis = True"
   ]
  },
  {
   "cell_type": "code",
   "execution_count": 2,
   "metadata": {
    "collapsed": false
   },
   "outputs": [],
   "source": [
    "settings = [\n",
    "#     X   I   B     N   C            W\n",
    "    [ 4,  5,  0, 1000, \"A\", [0.3, 0.3, 0.2, 0.2]],\n",
    "    [ 4, 10,  0, 1000, \"A\", [0.3, 0.3, 0.2, 0.2]],\n",
    "    [ 4, 20,  0, 1000, \"A\", [0.3, 0.3, 0.2, 0.2]],\n",
    "    [ 4,  5,  1, 1000, \"A\", [0.3, 0.3, 0.2, 0.2]],\n",
    "    [ 4, 10,  1, 1000, \"A\", [0.3, 0.3, 0.2, 0.2]],\n",
    "    [ 4, 20,  1, 1000, \"A\", [0.3, 0.3, 0.2, 0.2]],\n",
    "    [ 4,  5,  0, 1000, \"B\", [0.4, 0.4, 0.1, 0.1]],\n",
    "    [ 4, 10,  0, 1000, \"B\", [0.4, 0.4, 0.1, 0.1]],\n",
    "    [ 4, 20,  0, 1000, \"B\", [0.4, 0.4, 0.1, 0.1]],\n",
    "    [ 4,  5,  1, 1000, \"B\", [0.4, 0.4, 0.1, 0.1]],\n",
    "    [ 4, 10,  1, 1000, \"B\", [0.4, 0.4, 0.1, 0.1]],\n",
    "    [ 4, 20,  1, 1000, \"B\", [0.4, 0.4, 0.1, 0.1]],\n",
    "    [ 6,  5,  0, 1000, \"A\", [0.2, 0.2, 0.2, 0.2, 0.1, 0.1]],\n",
    "    [ 6, 10,  0, 1000, \"A\", [0.2, 0.2, 0.2, 0.2, 0.1, 0.1]],\n",
    "    [ 6, 20,  0, 1000, \"A\", [0.2, 0.2, 0.2, 0.2, 0.1, 0.1]],\n",
    "    [ 6,  5,  1, 1000, \"A\", [0.2, 0.2, 0.2, 0.2, 0.1, 0.1]],\n",
    "    [ 6, 10,  1, 1000, \"A\", [0.2, 0.2, 0.2, 0.2, 0.1, 0.1]],\n",
    "    [ 6, 20,  1, 1000, \"A\", [0.2, 0.2, 0.2, 0.2, 0.1, 0.1]],\n",
    "    [ 6,  5,  0, 1000, \"B\", [0.3, 0.3, 0.1, 0.1, 0.1, 0.1]],\n",
    "    [ 6, 10,  0, 1000, \"B\", [0.3, 0.3, 0.1, 0.1, 0.1, 0.1]],\n",
    "    [ 6, 20,  0, 1000, \"B\", [0.3, 0.3, 0.1, 0.1, 0.1, 0.1]],\n",
    "    [ 6,  5,  1, 1000, \"B\", [0.3, 0.3, 0.1, 0.1, 0.1, 0.1]],\n",
    "    [ 6, 10,  1, 1000, \"B\", [0.3, 0.3, 0.1, 0.1, 0.1, 0.1]],\n",
    "    [ 6, 20,  1, 1000, \"B\", [0.3, 0.3, 0.1, 0.1, 0.1, 0.1]],\n",
    "    [10,  5,  0, 1000, \"A\", [0.2, 0.2, 0.1, 0.1, 0.1, 0.1, 0.05, 0.05, 0.05, 0.05]],\n",
    "    [10, 10,  0, 1000, \"A\", [0.2, 0.2, 0.1, 0.1, 0.1, 0.1, 0.05, 0.05, 0.05, 0.05]],\n",
    "    [10, 20,  0, 1000, \"A\", [0.2, 0.2, 0.1, 0.1, 0.1, 0.1, 0.05, 0.05, 0.05, 0.05]],\n",
    "    [10,  5,  1, 1000, \"A\", [0.2, 0.2, 0.1, 0.1, 0.1, 0.1, 0.05, 0.05, 0.05, 0.05]],\n",
    "    [10, 10,  1, 1000, \"A\", [0.2, 0.2, 0.1, 0.1, 0.1, 0.1, 0.05, 0.05, 0.05, 0.05]],\n",
    "    [10, 20,  1, 1000, \"A\", [0.2, 0.2, 0.1, 0.1, 0.1, 0.1, 0.05, 0.05, 0.05, 0.05]],\n",
    "    [10,  5,  0, 1000, \"B\", [0.3, 0.2, 0.1, 0.1, 0.05, 0.05, 0.05, 0.05, 0.05, 0.05]],\n",
    "    [10, 10,  0, 1000, \"B\", [0.3, 0.2, 0.1, 0.1, 0.05, 0.05, 0.05, 0.05, 0.05, 0.05]],\n",
    "    [10, 20,  0, 1000, \"B\", [0.3, 0.2, 0.1, 0.1, 0.05, 0.05, 0.05, 0.05, 0.05, 0.05]],\n",
    "    [10,  5,  1, 1000, \"B\", [0.3, 0.2, 0.1, 0.1, 0.05, 0.05, 0.05, 0.05, 0.05, 0.05]],\n",
    "    [10, 10,  1, 1000, \"B\", [0.3, 0.2, 0.1, 0.1, 0.05, 0.05, 0.05, 0.05, 0.05, 0.05]],\n",
    "    [10, 20,  1, 1000, \"B\", [0.3, 0.2, 0.1, 0.1, 0.05, 0.05, 0.05, 0.05, 0.05, 0.05]],\n",
    "]\n",
    "\n",
    "random_breaking = False\n",
    "revaluate = True"
   ]
  },
  {
   "cell_type": "code",
   "execution_count": 4,
   "metadata": {
    "collapsed": false
   },
   "outputs": [
    {
     "name": "stdout",
     "output_type": "stream",
     "text": [
      "X = 4, N = 1000, I = 5, B = 0\n",
      "X = 4, N = 1000, I = 5, B = 0\n",
      "Poll results: [0.3, 0.3, 0.2, 0.2], vote results: [ 0.3  0.3  0.2  0.2], supporters: [300, 300, 200, 200]\n"
     ]
    },
    {
     "ename": "TypeError",
     "evalue": "object of type 'NoneType' has no len()",
     "traceback": [
      "\u001b[0;31m---------------------------------------------------------------------------\u001b[0m",
      "\u001b[0;31mTypeError\u001b[0m                                 Traceback (most recent call last)",
      "\u001b[0;32m<ipython-input-4-66ec963155ac>\u001b[0m in \u001b[0;36m<module>\u001b[0;34m()\u001b[0m\n\u001b[1;32m     29\u001b[0m \u001b[0;34m\u001b[0m\u001b[0m\n\u001b[1;32m     30\u001b[0m         \u001b[0;32mif\u001b[0m \u001b[0mrevaluate\u001b[0m \u001b[0;34m==\u001b[0m \u001b[0;32mTrue\u001b[0m\u001b[0;34m:\u001b[0m\u001b[0;34m\u001b[0m\u001b[0m\n\u001b[0;32m---> 31\u001b[0;31m             \u001b[0mvote_results\u001b[0m \u001b[0;34m=\u001b[0m \u001b[0mrevaluate_votes\u001b[0m\u001b[0;34m(\u001b[0m\u001b[0magendas\u001b[0m\u001b[0;34m,\u001b[0m \u001b[0mprofile\u001b[0m\u001b[0;34m,\u001b[0m \u001b[0mvote_supporters\u001b[0m\u001b[0;34m,\u001b[0m \u001b[0mvote_results\u001b[0m\u001b[0;34m,\u001b[0m \u001b[0mbreaking_points\u001b[0m\u001b[0;34m)\u001b[0m\u001b[0;34m\u001b[0m\u001b[0m\n\u001b[0m\u001b[1;32m     32\u001b[0m             \u001b[0mprint\u001b[0m\u001b[0;34m(\u001b[0m\u001b[0;34m\"Revaluated votes: {}\"\u001b[0m\u001b[0;34m.\u001b[0m\u001b[0mformat\u001b[0m\u001b[0;34m(\u001b[0m\u001b[0mvote_results\u001b[0m\u001b[0;34m)\u001b[0m\u001b[0;34m)\u001b[0m\u001b[0;34m\u001b[0m\u001b[0m\n\u001b[1;32m     33\u001b[0m \u001b[0;34m\u001b[0m\u001b[0m\n",
      "\u001b[0;32m/media/janosch/DATA/Documents/COMSOC/COMSOC_project/model.py\u001b[0m in \u001b[0;36mrevaluate_votes\u001b[0;34m(agendas, profile, supporters, vote_results, breaking_points)\u001b[0m\n\u001b[1;32m    326\u001b[0m        \"\"\"\n\u001b[1;32m    327\u001b[0m     \u001b[0;32mfor\u001b[0m \u001b[0mparty\u001b[0m\u001b[0;34m,\u001b[0m \u001b[0mb_point\u001b[0m \u001b[0;32min\u001b[0m \u001b[0menumerate\u001b[0m\u001b[0;34m(\u001b[0m\u001b[0mbreaking_points\u001b[0m\u001b[0;34m)\u001b[0m\u001b[0;34m:\u001b[0m\u001b[0;34m\u001b[0m\u001b[0m\n\u001b[0;32m--> 328\u001b[0;31m         \u001b[0;32mif\u001b[0m \u001b[0mlen\u001b[0m\u001b[0;34m(\u001b[0m\u001b[0mb_point\u001b[0m\u001b[0;34m)\u001b[0m \u001b[0;34m>\u001b[0m\u001b[0;36m0\u001b[0m\u001b[0;34m:\u001b[0m\u001b[0;34m\u001b[0m\u001b[0m\n\u001b[0m\u001b[1;32m    329\u001b[0m             \u001b[0mchange_party\u001b[0m\u001b[0;34m=\u001b[0m\u001b[0;34m[\u001b[0m\u001b[0;34m]\u001b[0m\u001b[0;34m\u001b[0m\u001b[0m\n\u001b[1;32m    330\u001b[0m             \u001b[0;31m#TODO model when there are more than one breaking point per party\u001b[0m\u001b[0;34m\u001b[0m\u001b[0;34m\u001b[0m\u001b[0m\n",
      "\u001b[0;31mTypeError\u001b[0m: object of type 'NoneType' has no len()"
     ],
     "output_type": "error"
    }
   ],
   "source": [
    "for setting in settings[:12]:\n",
    "    X, I, B, N, C, poll_results = setting\n",
    "            \n",
    "    print(\"X = {}, N = {}, I = {}, B = {}\".format(X, N, I, B))\n",
    "\n",
    "    grid_results = []\n",
    "\n",
    "    for i in range(1000):\n",
    "        print(\"X = {}, N = {}, I = {}, B = {}\".format(X, N, I, B))\n",
    "\n",
    "        agendas = generate_agendas(I, X)\n",
    "        profile = generate_relative_profile(N, agendas, poll_results)\n",
    "\n",
    "        vote_results, vote_supporters = simulate_vote(agendas, profile, 1)\n",
    "\n",
    "        supporters = divide_electorate(profile, agendas)\n",
    "        keys = list(supporters.keys())\n",
    "        keys.sort()\n",
    "        no_supporters = [len(supporters[key]) for key in keys]\n",
    "        print(\"Poll results: {}, vote results: {}, supporters: {}\".format(poll_results, vote_results, no_supporters))\n",
    "\n",
    "        if random_breaking: breaking_points = generate_breakingpoints(X, I, B)\n",
    "        else: breaking_points = derive_breaking_points(B, supporters, agendas)\n",
    "\n",
    "        if B == 1:\n",
    "            breaking_points_one = [None] * X\n",
    "            breaking_points_one[0] = breaking_points[0]\n",
    "            breaking_points = breaking_points_one\n",
    "            \n",
    "        if revaluate == True:\n",
    "            vote_results = revaluate_votes(agendas, profile, vote_supporters, vote_results, breaking_points)\n",
    "            print(\"Revaluated votes: {}\".format(vote_results))\n",
    "            \n",
    "        possible_coalitions = generate_coalitions(vote_results, agendas, breaking_points)\n",
    "        if len(possible_coalitions) == 0:\n",
    "            grid_results.append([-1, 0, 0])\n",
    "            continue\n",
    "\n",
    "        expected_outcomes = simulate_outcomes(vote_results, possible_coalitions, agendas, breaking_points)\n",
    "        ratings = rate_coalitions(possible_coalitions, agendas, vote_results, expected_outcomes, breaking_points)\n",
    "        final_expected_outcomes = np.sum([expected_outcomes[c] * ratings[c] for c in range(len(possible_coalitions))],\n",
    "                                         axis=0)\n",
    "        # if print_model: print(\"Final Expected Outcomes:\\n{}\".format(final_expected_outcomes))\n",
    "        coalition_ID = form_coalition(ratings)\n",
    "        # print(coalition_ID)\n",
    "\n",
    "        coalition = possible_coalitions[coalition_ID]\n",
    "        # print(\"Parties formed coalition {}\".format(possible_coaltitions[coalition_ID]))\n",
    "        policy = form_policiy(coalition, agendas, vote_results, expected_outcomes[coalition_ID])\n",
    "        # print(\"Coalition will implement policy {}\".format(policy))\n",
    "\n",
    "        # Sanity check:\n",
    "        for index, entry in enumerate(expected_outcomes[coalition_ID]):\n",
    "            if entry == 1.0:\n",
    "                assert policy[index] == 1.0, \"SANITY CHECK FAILED! Breaking point violated\"\n",
    "            if entry == 0.0:\n",
    "                assert policy[index] == 0.0, \"SANITY CHECK FAILED! Breaking point violated\"\n",
    "\n",
    "        regrets = calculate_regret(policy, profile, 2)\n",
    "        grid_results.append([np.mean(regrets), np.std(regrets), len(possible_coalitions)])\n",
    "\n",
    "        print(i, end='\\r')\n",
    "\n",
    "\n",
    "    filename = \"model_runs/revaluate-{}-{}-{}-{}-{}.pickle\".format(X, I, B, N, C)\n",
    "    with open(filename, 'wb') as handle:\n",
    "        pickle.dump(grid_results, handle, protocol=pickle.HIGHEST_PROTOCOL)\n",
    "    print(\"saved.\")"
   ]
  },
  {
   "cell_type": "code",
   "execution_count": 3,
   "metadata": {
    "collapsed": false
   },
   "outputs": [
    {
     "name": "stdout",
     "output_type": "stream",
     "text": [
      "4-05-0-1000-A.pickle\n",
      "4-05-0-1000-B.pickle\n",
      "4-05-1-1000-A.pickle\n",
      "4-05-1-1000-B.pickle\n",
      "4-10-0-1000-A.pickle\n",
      "4-10-0-1000-B.pickle\n",
      "4-10-1-1000-A.pickle\n",
      "4-10-1-1000-B.pickle\n",
      "4-20-0-1000-A.pickle\n",
      "4-20-0-1000-B.pickle\n",
      "4-20-1-1000-A.pickle\n",
      "4-20-1-1000-B.pickle\n"
     ]
    }
   ],
   "source": [
    "grid_results = None\n",
    "avg_regrets = [] \n",
    "regrets_std = [] \n",
    "avg_possible_coalitions = []\n",
    "counter = 0\n",
    "labels = []\n",
    "\n",
    "import os\n",
    "for root, dirs, files in os.walk(\"model_runs\"):\n",
    "    for file in files:\n",
    "        if file.startswith(\"4\"):          \n",
    "            print(file)\n",
    "            with open('model_runs/revaluate-'+file, 'rb') as handle:\n",
    "                grid_results = pickle.load(handle)\n",
    "            # print(filename, \"loaded.\")\n",
    "            labels.append(file[:6])\n",
    "            regrets = [result[0] for result in grid_results]\n",
    "            avg_regrets.append(np.sum(regrets)/len(regrets))\n",
    "            regrets_std.append(np.std(regrets))\n",
    "            no_possible_coalitions = [result[2] for result in grid_results]\n",
    "            avg_possible_coalitions.append(np.sum(no_possible_coalitions) / len(no_possible_coalitions))\n",
    "\n",
    "            # print(regrets)\n",
    "            # print(\"With {} breaking points, on average {} coalitions are possible; average agreement is {} with a std of {}\".format(B, avg_possible_coalitions[counter], avg_regrets[counter], regrets_std[counter]))\n",
    "            counter += 1"
   ]
  },
  {
   "cell_type": "code",
   "execution_count": 4,
   "metadata": {
    "collapsed": false
   },
   "outputs": [
    {
     "data": {
      "image/png": "[encoded data removed]",
      "text/plain": [
       "<matplotlib.figure.Figure at 0x7f811493eef0>"
      ]
     },
     "metadata": {},
     "output_type": "display_data"
    }
   ],
   "source": [
    "plot_bar_chart_regret(pd.DataFrame([avg_regrets, regrets_std]).T, labels)"
   ]
  }
 ],
 "metadata": {
  "kernelspec": {
   "display_name": "Python 3",
   "language": "python",
   "name": "python3"
  },
  "language_info": {
   "codemirror_mode": {
    "name": "ipython",
    "version": 3.0
   },
   "file_extension": ".py",
   "mimetype": "text/x-python",
   "name": "python",
   "nbconvert_exporter": "python",
   "pygments_lexer": "ipython3",
   "version": "3.6.0"
  }
 },
 "nbformat": 4,
 "nbformat_minor": 0
}